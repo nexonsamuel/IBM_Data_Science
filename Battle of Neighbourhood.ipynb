{
    "cells": [
        {
            "cell_type": "markdown",
            "metadata": {
                "collapsed": true
            },
            "source": "# Capstone Project: Battle of Neighbourhood"
        },
        {
            "cell_type": "markdown",
            "metadata": {},
            "source": "### In this capstone project, we will analyze and understand that moving from one place another for beteer financial prospects also provides us with the same amenties near the workplace."
        },
        {
            "cell_type": "markdown",
            "metadata": {},
            "source": "### ***Author: Nexon Samuel***"
        },
        {
            "cell_type": "markdown",
            "metadata": {},
            "source": "##### Importing of the libraries"
        },
        {
            "cell_type": "code",
            "execution_count": 1,
            "metadata": {},
            "outputs": [],
            "source": "import numpy as np\nimport pandas as pd"
        },
        {
            "cell_type": "code",
            "execution_count": 2,
            "metadata": {},
            "outputs": [
                {
                    "name": "stdout",
                    "output_type": "stream",
                    "text": "Hello Capstone Project Course!\n"
                }
            ],
            "source": "print('Hello Capstone Project Course!')"
        }
    ],
    "metadata": {
        "kernelspec": {
            "display_name": "Python 3.6",
            "language": "python",
            "name": "python3"
        },
        "language_info": {
            "codemirror_mode": {
                "name": "ipython",
                "version": 3
            },
            "file_extension": ".py",
            "mimetype": "text/x-python",
            "name": "python",
            "nbconvert_exporter": "python",
            "pygments_lexer": "ipython3",
            "version": "3.6.9"
        }
    },
    "nbformat": 4,
    "nbformat_minor": 1
}